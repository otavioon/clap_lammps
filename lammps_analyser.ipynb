{
 "cells": [
  {
   "cell_type": "code",
   "execution_count": 1,
   "id": "2a65a66f-4a1b-472d-b885-f9b20a3f988d",
   "metadata": {},
   "outputs": [
    {
     "name": "stdout",
     "output_type": "stream",
     "text": [
      "Collecting matplotlib\n",
      "  Downloading matplotlib-3.5.2-cp39-cp39-manylinux_2_5_x86_64.manylinux1_x86_64.whl (11.2 MB)\n",
      "\u001b[2K     \u001b[90m━━━━━━━━━━━━━━━━━━━━━━━━━━━━━━━━━━━━━━━━\u001b[0m \u001b[32m11.2/11.2 MB\u001b[0m \u001b[31m13.0 MB/s\u001b[0m eta \u001b[36m0:00:00\u001b[0m00:01\u001b[0m00:01\u001b[0m\n",
      "\u001b[?25hCollecting numpy\n",
      "  Downloading numpy-1.22.4-cp39-cp39-manylinux_2_17_x86_64.manylinux2014_x86_64.whl (16.8 MB)\n",
      "\u001b[2K     \u001b[90m━━━━━━━━━━━━━━━━━━━━━━━━━━━━━━━━━━━━━━━━\u001b[0m \u001b[32m16.8/16.8 MB\u001b[0m \u001b[31m13.1 MB/s\u001b[0m eta \u001b[36m0:00:00\u001b[0m00:01\u001b[0m00:01\u001b[0m\n",
      "\u001b[?25hCollecting pandas\n",
      "  Downloading pandas-1.4.2-cp39-cp39-manylinux_2_17_x86_64.manylinux2014_x86_64.whl (11.7 MB)\n",
      "\u001b[2K     \u001b[90m━━━━━━━━━━━━━━━━━━━━━━━━━━━━━━━━━━━━━━━━\u001b[0m \u001b[32m11.7/11.7 MB\u001b[0m \u001b[31m12.7 MB/s\u001b[0m eta \u001b[36m0:00:00\u001b[0m00:01\u001b[0m00:01\u001b[0m\n",
      "\u001b[?25hRequirement already satisfied: pyparsing>=2.2.1 in /usr/local/lib/python3.9/site-packages (from matplotlib) (3.0.9)\n",
      "Collecting pillow>=6.2.0\n",
      "  Downloading Pillow-9.1.1-cp39-cp39-manylinux_2_17_x86_64.manylinux2014_x86_64.whl (3.1 MB)\n",
      "\u001b[2K     \u001b[90m━━━━━━━━━━━━━━━━━━━━━━━━━━━━━━━━━━━━━━━━\u001b[0m \u001b[32m3.1/3.1 MB\u001b[0m \u001b[31m13.4 MB/s\u001b[0m eta \u001b[36m0:00:00\u001b[0m00:01\u001b[0m00:01\u001b[0m\n",
      "\u001b[?25hCollecting cycler>=0.10\n",
      "  Downloading cycler-0.11.0-py3-none-any.whl (6.4 kB)\n",
      "Collecting kiwisolver>=1.0.1\n",
      "  Downloading kiwisolver-1.4.3-cp39-cp39-manylinux_2_12_x86_64.manylinux2010_x86_64.whl (1.6 MB)\n",
      "\u001b[2K     \u001b[90m━━━━━━━━━━━━━━━━━━━━━━━━━━━━━━━━━━━━━━━━\u001b[0m \u001b[32m1.6/1.6 MB\u001b[0m \u001b[31m13.7 MB/s\u001b[0m eta \u001b[36m0:00:00\u001b[0ma \u001b[36m0:00:01\u001b[0m\n",
      "\u001b[?25hRequirement already satisfied: python-dateutil>=2.7 in /usr/local/lib/python3.9/site-packages (from matplotlib) (2.8.2)\n",
      "Requirement already satisfied: packaging>=20.0 in /usr/local/lib/python3.9/site-packages (from matplotlib) (21.3)\n",
      "Collecting fonttools>=4.22.0\n",
      "  Downloading fonttools-4.33.3-py3-none-any.whl (930 kB)\n",
      "\u001b[2K     \u001b[90m━━━━━━━━━━━━━━━━━━━━━━━━━━━━━━━━━━━━━━\u001b[0m \u001b[32m930.9/930.9 KB\u001b[0m \u001b[31m16.2 MB/s\u001b[0m eta \u001b[36m0:00:00\u001b[0ma \u001b[36m0:00:01\u001b[0m\n",
      "\u001b[?25hRequirement already satisfied: pytz>=2020.1 in /usr/local/lib/python3.9/site-packages (from pandas) (2022.1)\n",
      "Requirement already satisfied: six>=1.5 in /usr/local/lib/python3.9/site-packages (from python-dateutil>=2.7->matplotlib) (1.16.0)\n",
      "Installing collected packages: pillow, numpy, kiwisolver, fonttools, cycler, pandas, matplotlib\n",
      "Successfully installed cycler-0.11.0 fonttools-4.33.3 kiwisolver-1.4.3 matplotlib-3.5.2 numpy-1.22.4 pandas-1.4.2 pillow-9.1.1\n",
      "\u001b[33mWARNING: Running pip as the 'root' user can result in broken permissions and conflicting behaviour with the system package manager. It is recommended to use a virtual environment instead: https://pip.pypa.io/warnings/venv\u001b[0m\u001b[33m\n",
      "\u001b[0m\u001b[33mWARNING: You are using pip version 22.0.4; however, version 22.1.2 is available.\n",
      "You should consider upgrading via the '/usr/local/bin/python -m pip install --upgrade pip' command.\u001b[0m\u001b[33m\n",
      "\u001b[0m"
     ]
    }
   ],
   "source": [
    "!pip install matplotlib numpy pandas"
   ]
  },
  {
   "cell_type": "code",
   "execution_count": 2,
   "id": "2b8c8f3b-68f4-42ef-a6c6-0073f5e90f11",
   "metadata": {},
   "outputs": [],
   "source": [
    "import yaml\n",
    "import datetime\n",
    "import time\n",
    "\n",
    "from pathlib import Path\n",
    "\n",
    "import numpy as np\n",
    "import matplotlib.pyplot as plt\n",
    "%matplotlib inline"
   ]
  },
  {
   "cell_type": "code",
   "execution_count": 3,
   "id": "c16e527c-0b64-4e41-a4a1-7c53ff1929a8",
   "metadata": {},
   "outputs": [
    {
     "name": "stdout",
     "output_type": "stream",
     "text": [
      "There are 15 nodes\n"
     ]
    }
   ],
   "source": [
    "results_dir = Path(\"results\")\n",
    "nodes_file = results_dir / \"nodes.yaml\"\n",
    "\n",
    "with nodes_file.open(\"r\") as f:\n",
    "    node_descriptors = yaml.load(f, Loader=yaml.FullLoader)\n",
    "    \n",
    "print(f\"There are {len(node_descriptors)} nodes\")"
   ]
  },
  {
   "cell_type": "code",
   "execution_count": 4,
   "id": "a754f0a0-2ff9-409a-9f61-eb34b918f367",
   "metadata": {},
   "outputs": [
    {
     "data": {
      "text/plain": [
       "{'cloud_instance_id': 'i-046310ea085e2ae4d',\n",
       " 'cloud_lifecycle': 'normal',\n",
       " 'configuration': {'instance': {'boot_disk_device': None,\n",
       "   'boot_disk_iops': None,\n",
       "   'boot_disk_size': 16,\n",
       "   'boot_disk_snapshot': None,\n",
       "   'boot_disk_type': None,\n",
       "   'flavor': 't2.medium',\n",
       "   'image_id': 'ami-0650ed74180c860f3',\n",
       "   'instance_config_id': 'lammps-type-t2.medium',\n",
       "   'login': 'login-ubuntu',\n",
       "   'network_ids': [],\n",
       "   'placement_group': None,\n",
       "   'price': None,\n",
       "   'provider': 'aws-config-us-east-1',\n",
       "   'security_group': 'open-security-group',\n",
       "   'timeout': None},\n",
       "  'login': {'keypair_name': 'otavio_aws_2022_key',\n",
       "   'keypair_private_file': 'key.pem',\n",
       "   'keypair_public_file': 'key.pub',\n",
       "   'login_config_id': 'login-ubuntu',\n",
       "   'ssh_port': 22,\n",
       "   'sudo': True,\n",
       "   'sudo_user': 'root',\n",
       "   'user': 'ubuntu'},\n",
       "  'provider': {'access_keyfile': 'ec2_access_key.pub',\n",
       "   'provider': 'aws',\n",
       "   'provider_config_id': 'aws-config-us-east-1',\n",
       "   'region': 'us-east-1',\n",
       "   'secret_access_keyfile': 'ec2_access_key.pem',\n",
       "   'url': None,\n",
       "   'vpc': None}},\n",
       " 'creation_time': 1655477478.1717432,\n",
       " 'extra': {'architecture': 'x86_64',\n",
       "  'dns': 'ec2-34-207-185-4.compute-1.amazonaws.com',\n",
       "  'instance_id': 'i-046310ea085e2ae4d',\n",
       "  'instance_tags': {'CreatedWith': 'CLAP',\n",
       "   'Name': 'WilliamLouder-59794c67',\n",
       "   'owner': 'otavio.napoli',\n",
       "   'principalId': 'AIDATSRODRVJXBE5IBILK'},\n",
       "  'private_dns': 'ip-172-31-18-196.ec2.internal',\n",
       "  'private_ip': '172.31.18.196',\n",
       "  'subnet_id': 'subnet-9bf928d1',\n",
       "  'vpc_id': 'vpc-dd94f4a6'},\n",
       " 'ip': '34.207.185.4',\n",
       " 'nickname': 'WilliamLouder',\n",
       " 'node_id': '59794c67db354b7f87340624c04e4dd0',\n",
       " 'roles': ['lammps'],\n",
       " 'status': 'reachable',\n",
       " 'tags': {'.cluster:cluster-6ac142b83b4b4b72920c8ec9bfee8a62': 'cluster-lammps-type-t2.medium'},\n",
       " 'type': 'cloud',\n",
       " 'update_time': 1655477787.6234488}"
      ]
     },
     "execution_count": 4,
     "metadata": {},
     "output_type": "execute_result"
    }
   ],
   "source": [
    "node_descriptors[0]"
   ]
  },
  {
   "cell_type": "code",
   "execution_count": 5,
   "id": "163d60cf-fb1c-41f6-8175-ab1bffc24147",
   "metadata": {},
   "outputs": [
    {
     "data": {
      "text/plain": [
       "{'59794c67db354b7f87340624c04e4dd0': 174,\n",
       " 'bd768c6a66f445e7a11351a667e42b8a': 61,\n",
       " 'dc8897c9bd31486dab80009367ef3385': 62,\n",
       " '1c674064c6324a90a13bf6b092afd80a': 78,\n",
       " 'fcd71ec358ca49bcb6e43257a90b5b68': 119,\n",
       " '9b52a6a911cd401bb4c0e7985a12089a': 28,\n",
       " '419951bb461247c68b34115e596fb2da': 69,\n",
       " '98eaa8f47b444cf3afc295102886c2ac': 69,\n",
       " '7b30252402984d268d838fc9a8468fb7': 128,\n",
       " 'b73ea280daca4f91a50b13844ba26b3c': 31,\n",
       " '5b9555a28ceb47e0b64aa6eafe108c9a': 80,\n",
       " '055a1b8ed33e4070b12f8544aea86cd2': 150,\n",
       " 'af385a34e484447bbad51afad3beb5c8': 168,\n",
       " '4845d9798a284a6c9186c949c3cbb3d4': 203,\n",
       " '17505645616247a79c8f70ffd08778c1': 83}"
      ]
     },
     "execution_count": 5,
     "metadata": {},
     "output_type": "execute_result"
    }
   ],
   "source": [
    "def get_lammps_time(file: Path):\n",
    "    with file.open(\"r\") as f:\n",
    "        last_line = f.readlines()[-1]\n",
    "    \n",
    "    wall_time = last_line.split(\"Total wall time: \")[1].strip()\n",
    "    wall_time = time.strptime(wall_time, \"%H:%M:%S\")\n",
    "    wall_time = datetime.timedelta(\n",
    "        hours=wall_time.tm_hour,\n",
    "        minutes=wall_time.tm_min,\n",
    "        seconds=wall_time.tm_sec).total_seconds()\n",
    "    return int(wall_time)\n",
    "\n",
    "results = {\n",
    "    result_file.parents[3].stem: get_lammps_time(result_file)\n",
    "    for result_file in results_dir.rglob(\"*.stdout\") \n",
    "}\n",
    "\n",
    "results"
   ]
  },
  {
   "cell_type": "code",
   "execution_count": 6,
   "id": "6111ac41-9ad8-45a4-8fbe-d29e79907816",
   "metadata": {},
   "outputs": [
    {
     "data": {
      "text/plain": [
       "{'t2.medium': 174,\n",
       " 'm5.2xlarge': 61,\n",
       " 'r5.2xlarge': 62,\n",
       " 'r4.2xlarge': 78,\n",
       " 'r5.xlarge': 119,\n",
       " 'c5.4xlarge': 28,\n",
       " 'm5a.2xlarge': 69,\n",
       " 'r5a.2xlarge': 69,\n",
       " 'r5a.xlarge': 128,\n",
       " 'r5.4xlarge': 31,\n",
       " 'm4.2xlarge': 80,\n",
       " 'r4.xlarge': 150,\n",
       " 't2.large': 168,\n",
       " 'c5.large': 203,\n",
       " 'x1e.2xlarge': 83}"
      ]
     },
     "execution_count": 6,
     "metadata": {},
     "output_type": "execute_result"
    }
   ],
   "source": [
    "wall_time_per_flavor = {}\n",
    "for k, v in results.items():\n",
    "    flavor = [node[\"configuration\"][\"instance\"][\"flavor\"] for node in node_descriptors if node[\"node_id\"] == k][0]\n",
    "    wall_time_per_flavor[flavor] = v\n",
    "    \n",
    "wall_time_per_flavor"
   ]
  },
  {
   "cell_type": "code",
   "execution_count": 7,
   "id": "d13bfa2d-7231-4a70-b100-dfce7151cb38",
   "metadata": {},
   "outputs": [
    {
     "data": {
      "text/plain": [
       "{'t2.medium': 1.2888888888888887e-05,\n",
       " 'r4.2xlarge': 0.0001477777777777778,\n",
       " 'r5.xlarge': 7e-05,\n",
       " 'm4.2xlarge': 0.00011111111111111112,\n",
       " 'm5.2xlarge': 0.00010666666666666667,\n",
       " 'r5a.xlarge': 6.277777777777778e-05,\n",
       " 'c5.4xlarge': 0.0001888888888888889,\n",
       " 'r5a.2xlarge': 0.00012555555555555557,\n",
       " 'r5.4xlarge': 0.00028,\n",
       " 'r5.2xlarge': 0.00014,\n",
       " 't2.large': 2.5777777777777775e-05,\n",
       " 'm5a.2xlarge': 9.555555555555554e-05,\n",
       " 'c5.large': 2.3611111111111114e-05,\n",
       " 'r4.xlarge': 7.38888888888889e-05,\n",
       " 'x1e.2xlarge': 0.00046333333333333334}"
      ]
     },
     "execution_count": 7,
     "metadata": {},
     "output_type": "execute_result"
    }
   ],
   "source": [
    "instance_price_per_second = {\n",
    "    't2.medium':    0.0464/3600,\n",
    "    'r4.2xlarge':   0.5320/3600,\n",
    "    'r5.xlarge':    0.2520/3600,\n",
    "    'm4.2xlarge':   0.4000/3600,\n",
    "    'm5.2xlarge':   0.3840/3600,\n",
    "    'r5a.xlarge':   0.2260/3600,\n",
    "    'c5.4xlarge':   0.6800/3600,\n",
    "    'r5a.2xlarge':  0.4520/3600,\n",
    "    'r5.4xlarge':   1.0080/3600,\n",
    "    'r5.2xlarge':   0.5040/3600,\n",
    "    't2.large':     0.0928/3600,\n",
    "    'm5a.2xlarge':  0.3440/3600,\n",
    "    'c5.large':     0.0850/3600,\n",
    "    'r4.xlarge':    0.2660/3600,\n",
    "    'x1e.2xlarge':  1.6680/3600\n",
    "}\n",
    "\n",
    "instance_price_per_second"
   ]
  },
  {
   "cell_type": "code",
   "execution_count": 8,
   "id": "7190febf-2559-406a-931d-e631d14390e5",
   "metadata": {},
   "outputs": [
    {
     "data": {
      "text/plain": [
       "{'t2.medium': 13500000.000000002,\n",
       " 'r4.2xlarge': 527819.5488721804,\n",
       " 'r5.xlarge': 1700000.0000000002,\n",
       " 'm4.2xlarge': 720000.0,\n",
       " 'm5.2xlarge': 571875.0,\n",
       " 'r5a.xlarge': 2038938.053097345,\n",
       " 'c5.4xlarge': 148235.29411764705,\n",
       " 'r5a.2xlarge': 549557.5221238937,\n",
       " 'r5.4xlarge': 110714.28571428572,\n",
       " 'r5.2xlarge': 442857.1428571429,\n",
       " 't2.large': 6517241.379310345,\n",
       " 'm5a.2xlarge': 722093.0232558141,\n",
       " 'c5.large': 8597647.058823528,\n",
       " 'r4.xlarge': 2030075.1879699246,\n",
       " 'x1e.2xlarge': 179136.690647482}"
      ]
     },
     "execution_count": 8,
     "metadata": {},
     "output_type": "execute_result"
    }
   ],
   "source": [
    "perf_per_cost = {\n",
    "    instance: wall_time_per_flavor[instance]/price\n",
    "    for instance, price in instance_price_per_second.items()\n",
    "}\n",
    "\n",
    "perf_per_cost"
   ]
  },
  {
   "cell_type": "code",
   "execution_count": 9,
   "id": "c8859191-e70f-4e26-b5aa-9e7229c9d955",
   "metadata": {},
   "outputs": [
    {
     "data": {
      "text/plain": [
       "[('r5.4xlarge', 110714.28571428572),\n",
       " ('c5.4xlarge', 148235.29411764705),\n",
       " ('x1e.2xlarge', 179136.690647482),\n",
       " ('r5.2xlarge', 442857.1428571429),\n",
       " ('r4.2xlarge', 527819.5488721804),\n",
       " ('r5a.2xlarge', 549557.5221238937),\n",
       " ('m5.2xlarge', 571875.0),\n",
       " ('m4.2xlarge', 720000.0),\n",
       " ('m5a.2xlarge', 722093.0232558141),\n",
       " ('r5.xlarge', 1700000.0000000002),\n",
       " ('r4.xlarge', 2030075.1879699246),\n",
       " ('r5a.xlarge', 2038938.053097345),\n",
       " ('t2.large', 6517241.379310345),\n",
       " ('c5.large', 8597647.058823528),\n",
       " ('t2.medium', 13500000.000000002)]"
      ]
     },
     "execution_count": 9,
     "metadata": {},
     "output_type": "execute_result"
    }
   ],
   "source": [
    "sorted(perf_per_cost.items(), key=lambda x: x[1]) "
   ]
  },
  {
   "cell_type": "code",
   "execution_count": 10,
   "id": "cb9a09aa-9508-45d2-9477-0727f67d61c5",
   "metadata": {},
   "outputs": [],
   "source": [
    "def is_pareto_efficient(costs):\n",
    "    \"\"\"\n",
    "    Find the pareto-efficient points\n",
    "    :param costs: An (n_points, n_costs) array\n",
    "    :return: A (n_points, ) boolean array, indicating whether each point is Pareto efficient\n",
    "    \"\"\"\n",
    "    is_efficient = np.ones(costs.shape[0], dtype = bool)\n",
    "    for i, c in enumerate(costs):\n",
    "        is_efficient[i] = np.all(np.any(costs[:i]>c, axis=1)) and np.all(np.any(costs[i+1:]>c, axis=1))\n",
    "    return is_efficient"
   ]
  },
  {
   "cell_type": "code",
   "execution_count": 11,
   "id": "5fd4824a-701c-4e41-b646-312de54c00dd",
   "metadata": {},
   "outputs": [
    {
     "data": {
      "image/png": "[encoded data removed]",
      "text/plain": [
       "<Figure size 576x576 with 1 Axes>"
      ]
     },
     "metadata": {
      "needs_background": "light"
     },
     "output_type": "display_data"
    }
   ],
   "source": [
    "instances = sorted(perf_per_cost.keys())\n",
    "costs = np.array([[perf_per_cost[i]] for i in instances])\n",
    "paretto_colors = [\"red\"  if i==True else \"blue\" for i in is_pareto_efficient(costs)]\n",
    "xs = [wall_time_per_flavor[i] for i in instances]\n",
    "ys = [perf_per_cost[i] for i in instances]\n",
    "\n",
    "markers = [\"o\", \"v\", \"^\", \"<\", \">\", \"1\", \"2\", \"8\", \"s\", \"h\", \"P\", \"p\", \"*\", \"D\", \"d\"]*2\n",
    "fig, ax = plt.subplots(figsize=(8, 8))\n",
    "\n",
    "for label, x, y, marker, color in zip(instances, xs, ys, markers, paretto_colors):\n",
    "    ax.scatter(x, y, label=label, marker=marker, c=color, alpha=0.75)\n",
    "    \n",
    "ax.set_xlabel(\"Execution Time (s)\")\n",
    "ax.set_ylabel(\"Instance Price\")\n",
    "ax.legend()\n",
    "plt.show()"
   ]
  },
  {
   "cell_type": "code",
   "execution_count": null,
   "id": "840c7b11-54de-4bc4-85d4-64457ea24e95",
   "metadata": {},
   "outputs": [],
   "source": []
  }
 ],
 "metadata": {
  "kernelspec": {
   "display_name": "Python 3 (ipykernel)",
   "language": "python",
   "name": "python3"
  },
  "language_info": {
   "codemirror_mode": {
    "name": "ipython",
    "version": 3
   },
   "file_extension": ".py",
   "mimetype": "text/x-python",
   "name": "python",
   "nbconvert_exporter": "python",
   "pygments_lexer": "ipython3",
   "version": "3.9.12"
  }
 },
 "nbformat": 4,
 "nbformat_minor": 5
}
